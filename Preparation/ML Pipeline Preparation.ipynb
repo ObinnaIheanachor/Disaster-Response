{
 "cells": [
  {
   "cell_type": "markdown",
   "metadata": {},
   "source": [
    "# ML Pipeline Preparation\n",
    "Follow the instructions below to help you create your ML pipeline.\n",
    "### 1. Import libraries and load data from database.\n",
    "- Import Python libraries\n",
    "- Load dataset from database with [`read_sql_table`](https://pandas.pydata.org/pandas-docs/stable/generated/pandas.read_sql_table.html)\n",
    "- Define feature and target variables X and Y"
   ]
  },
  {
   "cell_type": "code",
   "execution_count": 1,
   "metadata": {},
   "outputs": [
    {
     "name": "stdout",
     "output_type": "stream",
     "text": [
      "[nltk_data] Downloading package punkt to /root/nltk_data...\n",
      "[nltk_data]   Package punkt is already up-to-date!\n",
      "[nltk_data] Downloading package wordnet to /root/nltk_data...\n",
      "[nltk_data]   Package wordnet is already up-to-date!\n",
      "[nltk_data] Downloading package averaged_perceptron_tagger to\n",
      "[nltk_data]     /root/nltk_data...\n",
      "[nltk_data]   Package averaged_perceptron_tagger is already up-to-\n",
      "[nltk_data]       date!\n"
     ]
    },
    {
     "data": {
      "text/plain": [
       "True"
      ]
     },
     "execution_count": 1,
     "metadata": {},
     "output_type": "execute_result"
    }
   ],
   "source": [
    "# import libraries\n",
    "import pandas as pd\n",
    "import numpy as np\n",
    "import os\n",
    "import pickle\n",
    "from sqlalchemy import create_engine\n",
    "import re\n",
    "import nltk\n",
    "from sklearn.base import BaseEstimator, TransformerMixin\n",
    "from sklearn.model_selection import train_test_split\n",
    "from sklearn.multioutput import MultiOutputClassifier\n",
    "from sklearn.ensemble import RandomForestClassifier, GradientBoostingClassifier,AdaBoostClassifier\n",
    "from sklearn.feature_extraction.text import CountVectorizer, TfidfTransformer\n",
    "from nltk.tokenize import word_tokenize\n",
    "from nltk.stem import WordNetLemmatizer\n",
    "from sklearn.pipeline import Pipeline, FeatureUnion\n",
    "from sklearn.model_selection import GridSearchCV\n",
    "from sklearn.metrics import make_scorer, accuracy_score, f1_score, fbeta_score, classification_report\n",
    "from scipy.stats import hmean\n",
    "from scipy.stats.mstats import gmean\n",
    "\n",
    "nltk.download(['punkt', 'wordnet', 'averaged_perceptron_tagger'])"
   ]
  },
  {
   "cell_type": "code",
   "execution_count": 2,
   "metadata": {},
   "outputs": [],
   "source": [
    "# load data from database\n",
    "engine = create_engine('sqlite:///ETL_Preparation.db')\n",
    "df = pd.read_sql_table('ETL_Preparation', engine)\n",
    "X = df.message\n",
    "y = df.iloc[:,4:]\n",
    "category_names = y.columns"
   ]
  },
  {
   "cell_type": "markdown",
   "metadata": {},
   "source": [
    "### 2. Write a tokenization function to process your text data"
   ]
  },
  {
   "cell_type": "code",
   "execution_count": 3,
   "metadata": {},
   "outputs": [],
   "source": [
    "def tokenize(text):\n",
    "    url_regex = 'http[s]?://(?:[a-zA-Z]|[0-9]|[$-_@.&+]|[!*\\(\\),]|(?:%[0-9a-fA-F][0-9a-fA-F]))+'\n",
    "    detected_urls = re.findall(url_regex, text)\n",
    "    for url in detected_urls:\n",
    "        text = text.replace(url, \"urlplaceholder\")\n",
    "\n",
    "    tokens = word_tokenize(text)\n",
    "    lemmatizer = WordNetLemmatizer()\n",
    "\n",
    "    clean_tokens = []\n",
    "    for tok in tokens:\n",
    "        clean_tok = lemmatizer.lemmatize(tok).lower().strip()\n",
    "        clean_tokens.append(clean_tok)\n",
    "\n",
    "    return clean_tokens"
   ]
  },
  {
   "cell_type": "markdown",
   "metadata": {},
   "source": [
    "### 3. Build a machine learning pipeline\n",
    "This machine pipeline should take in the `message` column as input and output classification results on the other 36 categories in the dataset. You may find the [MultiOutputClassifier](http://scikit-learn.org/stable/modules/generated/sklearn.multioutput.MultiOutputClassifier.html) helpful for predicting multiple target variables."
   ]
  },
  {
   "cell_type": "code",
   "execution_count": 4,
   "metadata": {},
   "outputs": [],
   "source": [
    "# PRELIMINARY PIPELINE\n",
    "def model_pipeline():\n",
    "    pipeline = Pipeline([\n",
    "        ('vect', CountVectorizer(tokenizer=tokenize)),\n",
    "        ('tfidf', TfidfTransformer()),\n",
    "        ('clf', MultiOutputClassifier(RandomForestClassifier())),\n",
    "    ])\n",
    "\n",
    "    return pipeline"
   ]
  },
  {
   "cell_type": "markdown",
   "metadata": {},
   "source": [
    "**ADD CUSTOM ESTIMATOR**"
   ]
  },
  {
   "cell_type": "code",
   "execution_count": 5,
   "metadata": {},
   "outputs": [],
   "source": [
    "class StartingVerbExtractor(BaseEstimator, TransformerMixin):\n",
    "    ''' Determines if first word \n",
    "    \n",
    "        in a body of text is a verb\n",
    "    \n",
    "    '''\n",
    "    def starting_verb(self, text):\n",
    "        sentence_list = nltk.sent_tokenize(text)\n",
    "        for sentence in sentence_list:\n",
    "            pos_tags = nltk.pos_tag(tokenize(sentence))\n",
    "            first_word, first_tag = pos_tags[0]\n",
    "            if first_tag in ['VB', 'VBP'] or first_word == 'RT':\n",
    "                return True\n",
    "        return False\n",
    "\n",
    "    def fit(self, X, y=None):\n",
    "        return self\n",
    "\n",
    "    def transform(self, X):\n",
    "        X_tagged = pd.Series(X).apply(self.starting_verb)\n",
    "        return pd.DataFrame(X_tagged)"
   ]
  },
  {
   "cell_type": "code",
   "execution_count": 6,
   "metadata": {},
   "outputs": [],
   "source": [
    "def new_model_pipeline():\n",
    "    pipeline = Pipeline([\n",
    "        ('features', FeatureUnion([\n",
    "\n",
    "            ('text_pipeline', Pipeline([\n",
    "                ('vect', CountVectorizer(tokenizer=tokenize)),\n",
    "                ('tfidf', TfidfTransformer())\n",
    "            ])),\n",
    "\n",
    "            ('starting_verb', StartingVerbExtractor())\n",
    "        ])),\n",
    "\n",
    "        ('clf', MultiOutputClassifier(AdaBoostClassifier()))\n",
    "    ])\n",
    "\n",
    "    return pipeline"
   ]
  },
  {
   "cell_type": "markdown",
   "metadata": {},
   "source": [
    "### 4. Train pipeline\n",
    "- Split data into train and test sets\n",
    "- Train pipeline"
   ]
  },
  {
   "cell_type": "code",
   "execution_count": 7,
   "metadata": {},
   "outputs": [
    {
     "data": {
      "text/plain": [
       "Pipeline(memory=None,\n",
       "     steps=[('features', FeatureUnion(n_jobs=1,\n",
       "       transformer_list=[('text_pipeline', Pipeline(memory=None,\n",
       "     steps=[('vect', CountVectorizer(analyzer='word', binary=False, decode_error='strict',\n",
       "        dtype=<class 'numpy.int64'>, encoding='utf-8', input='content',\n",
       "        lowercase=True, max_d...mator=None,\n",
       "          learning_rate=1.0, n_estimators=50, random_state=None),\n",
       "           n_jobs=1))])"
      ]
     },
     "execution_count": 7,
     "metadata": {},
     "output_type": "execute_result"
    }
   ],
   "source": [
    "X_train, X_test, y_train, y_test = train_test_split(X, y)\n",
    "\n",
    "model = new_model_pipeline()\n",
    "model.fit(X_train, y_train)"
   ]
  },
  {
   "cell_type": "markdown",
   "metadata": {},
   "source": [
    "**Test Demo of model**"
   ]
  },
  {
   "cell_type": "code",
   "execution_count": 8,
   "metadata": {},
   "outputs": [
    {
     "name": "stdout",
     "output_type": "stream",
     "text": [
      "['('related',)' '('request',)' '('aid_related',)' '('shelter',)'\n",
      " '('buildings',)' '('weather_related',)' '('direct_report',)']\n"
     ]
    }
   ],
   "source": [
    "msg = ['Hello I see fire in the street and many houses are destroyed, homeless people everywhere']\n",
    "test_output = model.predict(msg)\n",
    "print(y_train.columns.values[(test_output.flatten()==1)])"
   ]
  },
  {
   "cell_type": "markdown",
   "metadata": {},
   "source": [
    "### 5. Test your model\n",
    "Report the f1 score, precision and recall for each output category of the dataset. You can do this by iterating through the columns and calling sklearn's `classification_report` on each."
   ]
  },
  {
   "cell_type": "code",
   "execution_count": 9,
   "metadata": {},
   "outputs": [
    {
     "name": "stdout",
     "output_type": "stream",
     "text": [
      "('related',) :\n",
      "                             precision    recall  f1-score   support\n",
      "\n",
      "               ('related',)       0.54      0.26      0.35      1527\n",
      "               ('request',)       0.80      0.93      0.86      4978\n",
      "                 ('offer',)       0.25      0.08      0.12        49\n",
      "\n",
      "                avg / total       0.73      0.77      0.74      6554\n",
      " ...................................................\n",
      "('request',) :\n",
      "                             precision    recall  f1-score   support\n",
      "\n",
      "               ('related',)       0.91      0.96      0.93      5421\n",
      "               ('request',)       0.75      0.53      0.62      1133\n",
      "\n",
      "                avg / total       0.88      0.89      0.88      6554\n",
      " ...................................................\n",
      "('offer',) :\n",
      "                             precision    recall  f1-score   support\n",
      "\n",
      "               ('related',)       1.00      1.00      1.00      6525\n",
      "               ('request',)       0.00      0.00      0.00        29\n",
      "\n",
      "                avg / total       0.99      0.99      0.99      6554\n",
      " ...................................................\n",
      "('aid_related',) :\n",
      "                             precision    recall  f1-score   support\n",
      "\n",
      "               ('related',)       0.75      0.87      0.81      3830\n",
      "               ('request',)       0.77      0.59      0.67      2724\n",
      "\n",
      "                avg / total       0.76      0.76      0.75      6554\n",
      " ...................................................\n",
      "('medical_help',) :\n",
      "                             precision    recall  f1-score   support\n",
      "\n",
      "               ('related',)       0.94      0.98      0.96      6027\n",
      "               ('request',)       0.56      0.24      0.34       527\n",
      "\n",
      "                avg / total       0.91      0.92      0.91      6554\n",
      " ...................................................\n",
      "('medical_products',) :\n",
      "                             precision    recall  f1-score   support\n",
      "\n",
      "               ('related',)       0.96      0.99      0.98      6221\n",
      "               ('request',)       0.64      0.29      0.40       333\n",
      "\n",
      "                avg / total       0.95      0.96      0.95      6554\n",
      " ...................................................\n",
      "('search_and_rescue',) :\n",
      "                             precision    recall  f1-score   support\n",
      "\n",
      "               ('related',)       0.98      1.00      0.99      6373\n",
      "               ('request',)       0.60      0.18      0.27       181\n",
      "\n",
      "                avg / total       0.97      0.97      0.97      6554\n",
      " ...................................................\n",
      "('security',) :\n",
      "                             precision    recall  f1-score   support\n",
      "\n",
      "               ('related',)       0.98      1.00      0.99      6428\n",
      "               ('request',)       0.00      0.00      0.00       126\n",
      "\n",
      "                avg / total       0.96      0.98      0.97      6554\n",
      " ...................................................\n",
      "('military',) :\n",
      "                             precision    recall  f1-score   support\n",
      "\n",
      "               ('related',)       0.98      0.99      0.98      6325\n",
      "               ('request',)       0.62      0.35      0.45       229\n",
      "\n",
      "                avg / total       0.96      0.97      0.97      6554\n",
      " ...................................................\n",
      "('child_alone',) :\n",
      "                             precision    recall  f1-score   support\n",
      "\n",
      "               ('related',)       1.00      1.00      1.00      6554\n",
      "\n",
      "                avg / total       1.00      1.00      1.00      6554\n",
      " ...................................................\n",
      "('water',) :\n",
      "                             precision    recall  f1-score   support\n",
      "\n",
      "               ('related',)       0.98      0.99      0.98      6153\n",
      "               ('request',)       0.75      0.66      0.70       401\n",
      "\n",
      "                avg / total       0.96      0.97      0.96      6554\n",
      " ...................................................\n",
      "('food',) :\n",
      "                             precision    recall  f1-score   support\n",
      "\n",
      "               ('related',)       0.96      0.98      0.97      5810\n",
      "               ('request',)       0.81      0.68      0.74       744\n",
      "\n",
      "                avg / total       0.94      0.95      0.94      6554\n",
      " ...................................................\n",
      "('shelter',) :\n",
      "                             precision    recall  f1-score   support\n",
      "\n",
      "               ('related',)       0.96      0.98      0.97      5980\n",
      "               ('request',)       0.76      0.54      0.63       574\n",
      "\n",
      "                avg / total       0.94      0.94      0.94      6554\n",
      " ...................................................\n",
      "('clothing',) :\n",
      "                             precision    recall  f1-score   support\n",
      "\n",
      "               ('related',)       0.99      1.00      0.99      6447\n",
      "               ('request',)       0.78      0.46      0.58       107\n",
      "\n",
      "                avg / total       0.99      0.99      0.99      6554\n",
      " ...................................................\n",
      "('money',) :\n",
      "                             precision    recall  f1-score   support\n",
      "\n",
      "               ('related',)       0.98      0.99      0.99      6396\n",
      "               ('request',)       0.59      0.31      0.41       158\n",
      "\n",
      "                avg / total       0.97      0.98      0.97      6554\n",
      " ...................................................\n",
      "('missing_people',) :\n",
      "                             precision    recall  f1-score   support\n",
      "\n",
      "               ('related',)       0.99      1.00      0.99      6485\n",
      "               ('request',)       0.46      0.19      0.27        69\n",
      "\n",
      "                avg / total       0.99      0.99      0.99      6554\n",
      " ...................................................\n",
      "('refugees',) :\n",
      "                             precision    recall  f1-score   support\n",
      "\n",
      "               ('related',)       0.98      0.99      0.99      6351\n",
      "               ('request',)       0.59      0.23      0.33       203\n",
      "\n",
      "                avg / total       0.96      0.97      0.97      6554\n",
      " ...................................................\n",
      "('death',) :\n",
      "                             precision    recall  f1-score   support\n",
      "\n",
      "               ('related',)       0.97      0.99      0.98      6269\n",
      "               ('request',)       0.72      0.38      0.50       285\n",
      "\n",
      "                avg / total       0.96      0.97      0.96      6554\n",
      " ...................................................\n",
      "('other_aid',) :\n",
      "                             precision    recall  f1-score   support\n",
      "\n",
      "               ('related',)       0.88      0.98      0.93      5682\n",
      "               ('request',)       0.51      0.15      0.23       872\n",
      "\n",
      "                avg / total       0.83      0.87      0.83      6554\n",
      " ...................................................\n",
      "('infrastructure_related',) :\n",
      "                             precision    recall  f1-score   support\n",
      "\n",
      "               ('related',)       0.94      0.99      0.97      6132\n",
      "               ('request',)       0.41      0.09      0.14       422\n",
      "\n",
      "                avg / total       0.91      0.93      0.91      6554\n",
      " ...................................................\n",
      "('transport',) :\n",
      "                             precision    recall  f1-score   support\n",
      "\n",
      "               ('related',)       0.96      0.99      0.98      6258\n",
      "               ('request',)       0.56      0.22      0.32       296\n",
      "\n",
      "                avg / total       0.95      0.96      0.95      6554\n",
      " ...................................................\n",
      "('buildings',) :\n",
      "                             precision    recall  f1-score   support\n",
      "\n",
      "               ('related',)       0.97      0.99      0.98      6245\n",
      "               ('request',)       0.63      0.40      0.49       309\n",
      "\n",
      "                avg / total       0.95      0.96      0.96      6554\n",
      " ...................................................\n",
      "('electricity',) :\n",
      "                             precision    recall  f1-score   support\n",
      "\n",
      "               ('related',)       0.98      1.00      0.99      6421\n",
      "               ('request',)       0.50      0.22      0.30       133\n",
      "\n",
      "                avg / total       0.97      0.98      0.98      6554\n",
      " ...................................................\n",
      "('tools',) :\n",
      "                             precision    recall  f1-score   support\n",
      "\n",
      "               ('related',)       0.99      1.00      1.00      6520\n",
      "               ('request',)       0.17      0.03      0.05        34\n",
      "\n",
      "                avg / total       0.99      0.99      0.99      6554\n",
      " ...................................................\n",
      "('hospitals',) :\n",
      "                             precision    recall  f1-score   support\n",
      "\n",
      "               ('related',)       0.99      1.00      0.99      6479\n",
      "               ('request',)       0.22      0.05      0.09        75\n",
      "\n",
      "                avg / total       0.98      0.99      0.98      6554\n",
      " ...................................................\n",
      "('shops',) :\n",
      "                             precision    recall  f1-score   support\n",
      "\n",
      "               ('related',)       1.00      1.00      1.00      6523\n",
      "               ('request',)       0.00      0.00      0.00        31\n",
      "\n",
      "                avg / total       0.99      0.99      0.99      6554\n",
      " ...................................................\n",
      "('aid_centers',) :\n",
      "                             precision    recall  f1-score   support\n",
      "\n",
      "               ('related',)       0.99      1.00      0.99      6490\n",
      "               ('request',)       0.21      0.06      0.10        64\n",
      "\n",
      "                avg / total       0.98      0.99      0.99      6554\n",
      " ...................................................\n",
      "('other_infrastructure',) :\n",
      "                             precision    recall  f1-score   support\n",
      "\n",
      "               ('related',)       0.96      1.00      0.98      6270\n",
      "               ('request',)       0.44      0.08      0.14       284\n",
      "\n",
      "                avg / total       0.94      0.96      0.94      6554\n",
      " ...................................................\n",
      "('weather_related',) :\n",
      "                             precision    recall  f1-score   support\n",
      "\n",
      "               ('related',)       0.88      0.96      0.92      4741\n",
      "               ('request',)       0.86      0.67      0.75      1813\n",
      "\n",
      "                avg / total       0.88      0.88      0.87      6554\n",
      " ...................................................\n",
      "('floods',) :\n",
      "                             precision    recall  f1-score   support\n",
      "\n",
      "               ('related',)       0.96      0.99      0.98      6026\n",
      "               ('request',)       0.86      0.52      0.65       528\n",
      "\n",
      "                avg / total       0.95      0.95      0.95      6554\n",
      " ...................................................\n",
      "('storm',) :\n",
      "                             precision    recall  f1-score   support\n",
      "\n",
      "               ('related',)       0.95      0.98      0.97      5940\n",
      "               ('request',)       0.73      0.53      0.61       614\n",
      "\n",
      "                avg / total       0.93      0.94      0.93      6554\n",
      " ...................................................\n",
      "('fire',) :\n",
      "                             precision    recall  f1-score   support\n",
      "\n",
      "               ('related',)       0.99      1.00      1.00      6495\n",
      "               ('request',)       0.54      0.22      0.31        59\n",
      "\n",
      "                avg / total       0.99      0.99      0.99      6554\n",
      " ...................................................\n",
      "('earthquake',) :\n",
      "                             precision    recall  f1-score   support\n",
      "\n",
      "               ('related',)       0.98      0.99      0.98      5954\n",
      "               ('request',)       0.88      0.80      0.83       600\n",
      "\n",
      "                avg / total       0.97      0.97      0.97      6554\n",
      " ...................................................\n",
      "('cold',) :\n",
      "                             precision    recall  f1-score   support\n",
      "\n",
      "               ('related',)       0.99      1.00      0.99      6427\n",
      "               ('request',)       0.72      0.39      0.50       127\n",
      "\n",
      "                avg / total       0.98      0.99      0.98      6554\n",
      " ...................................................\n",
      "('other_weather',) :\n",
      "                             precision    recall  f1-score   support\n",
      "\n",
      "               ('related',)       0.95      0.99      0.97      6198\n",
      "               ('request',)       0.46      0.17      0.25       356\n",
      "\n",
      "                avg / total       0.93      0.94      0.93      6554\n",
      " ...................................................\n",
      "('direct_report',) :\n",
      "                             precision    recall  f1-score   support\n",
      "\n",
      "               ('related',)       0.88      0.96      0.92      5220\n",
      "               ('request',)       0.75      0.46      0.57      1334\n",
      "\n",
      "                avg / total       0.85      0.86      0.85      6554\n",
      " ...................................................\n"
     ]
    },
    {
     "name": "stderr",
     "output_type": "stream",
     "text": [
      "/opt/conda/lib/python3.6/site-packages/sklearn/metrics/classification.py:1428: UserWarning: labels size, 3, does not match size of target_names, 36\n",
      "  .format(len(labels), len(target_names))\n",
      "/opt/conda/lib/python3.6/site-packages/sklearn/metrics/classification.py:1428: UserWarning: labels size, 2, does not match size of target_names, 36\n",
      "  .format(len(labels), len(target_names))\n",
      "/opt/conda/lib/python3.6/site-packages/sklearn/metrics/classification.py:1428: UserWarning: labels size, 1, does not match size of target_names, 36\n",
      "  .format(len(labels), len(target_names))\n"
     ]
    }
   ],
   "source": [
    "y_pred = model.predict(X_test)\n",
    "\n",
    "\n",
    "for i in range(36):\n",
    "    print(y_test.columns[i], ':')\n",
    "    print(classification_report(y_test.iloc[:,i], y_pred[:,i], target_names=category_names), \n",
    "          '...................................................')"
   ]
  },
  {
   "cell_type": "code",
   "execution_count": 10,
   "metadata": {},
   "outputs": [],
   "source": [
    "def multioutput_fscore(y_true,y_pred,beta=1):\n",
    "    '''\n",
    "    Helps calculate average of all scores for all \n",
    "    predicted classes\n",
    "    '''\n",
    "    score_list = []\n",
    "    if isinstance(y_pred, pd.DataFrame) == True:\n",
    "        y_pred = y_pred.values\n",
    "    if isinstance(y_true, pd.DataFrame) == True:\n",
    "        y_true = y_true.values\n",
    "    for column in range(0,y_true.shape[1]):\n",
    "        score = fbeta_score(y_true[:,column],y_pred[:,column],beta,average='weighted')\n",
    "        score_list.append(score)\n",
    "    f1score_numpy = np.asarray(score_list)\n",
    "    f1score_numpy = f1score_numpy[f1score_numpy<1]\n",
    "    f1score = gmean(f1score_numpy)\n",
    "    return  f1score"
   ]
  },
  {
   "cell_type": "code",
   "execution_count": 11,
   "metadata": {},
   "outputs": [
    {
     "name": "stdout",
     "output_type": "stream",
     "text": [
      "Average overall accuracy 94.72% \n",
      "\n",
      "F1 score (custom definition) 93.61%\n",
      "\n"
     ]
    }
   ],
   "source": [
    "multi_f1 = multioutput_fscore(y_test,y_pred, beta = 1)\n",
    "overall_accuracy = (y_pred == y_test).mean().mean()\n",
    "\n",
    "print('Average overall accuracy {0:.2f}% \\n'.format(overall_accuracy*100))\n",
    "print('F1 score (custom definition) {0:.2f}%\\n'.format(multi_f1*100))"
   ]
  },
  {
   "cell_type": "markdown",
   "metadata": {},
   "source": [
    "### 6. Improve your model\n",
    "Use grid search to find better parameters. "
   ]
  },
  {
   "cell_type": "code",
   "execution_count": 12,
   "metadata": {},
   "outputs": [
    {
     "data": {
      "text/plain": [
       "{'memory': None, 'steps': [('features', FeatureUnion(n_jobs=1,\n",
       "          transformer_list=[('text_pipeline', Pipeline(memory=None,\n",
       "        steps=[('vect', CountVectorizer(analyzer='word', binary=False, decode_error='strict',\n",
       "           dtype=<class 'numpy.int64'>, encoding='utf-8', input='content',\n",
       "           lowercase=True, max_df=1.0, max_features=None, min_df=1,\n",
       "           ngram_... smooth_idf=True, sublinear_tf=False, use_idf=True))])), ('starting_verb', StartingVerbExtractor())],\n",
       "          transformer_weights=None)),\n",
       "  ('clf',\n",
       "   MultiOutputClassifier(estimator=AdaBoostClassifier(algorithm='SAMME.R', base_estimator=None,\n",
       "             learning_rate=1.0, n_estimators=50, random_state=None),\n",
       "              n_jobs=1))], 'features': FeatureUnion(n_jobs=1,\n",
       "        transformer_list=[('text_pipeline', Pipeline(memory=None,\n",
       "      steps=[('vect', CountVectorizer(analyzer='word', binary=False, decode_error='strict',\n",
       "         dtype=<class 'numpy.int64'>, encoding='utf-8', input='content',\n",
       "         lowercase=True, max_df=1.0, max_features=None, min_df=1,\n",
       "         ngram_... smooth_idf=True, sublinear_tf=False, use_idf=True))])), ('starting_verb', StartingVerbExtractor())],\n",
       "        transformer_weights=None), 'clf': MultiOutputClassifier(estimator=AdaBoostClassifier(algorithm='SAMME.R', base_estimator=None,\n",
       "           learning_rate=1.0, n_estimators=50, random_state=None),\n",
       "            n_jobs=1), 'features__n_jobs': 1, 'features__transformer_list': [('text_pipeline',\n",
       "   Pipeline(memory=None,\n",
       "        steps=[('vect', CountVectorizer(analyzer='word', binary=False, decode_error='strict',\n",
       "           dtype=<class 'numpy.int64'>, encoding='utf-8', input='content',\n",
       "           lowercase=True, max_df=1.0, max_features=None, min_df=1,\n",
       "           ngram_range=(1, 1), preprocessor=None, stop_words=None,\n",
       "           strip...y=None)), ('tfidf', TfidfTransformer(norm='l2', smooth_idf=True, sublinear_tf=False, use_idf=True))])),\n",
       "  ('starting_verb',\n",
       "   StartingVerbExtractor())], 'features__transformer_weights': None, 'features__text_pipeline': Pipeline(memory=None,\n",
       "      steps=[('vect', CountVectorizer(analyzer='word', binary=False, decode_error='strict',\n",
       "         dtype=<class 'numpy.int64'>, encoding='utf-8', input='content',\n",
       "         lowercase=True, max_df=1.0, max_features=None, min_df=1,\n",
       "         ngram_range=(1, 1), preprocessor=None, stop_words=None,\n",
       "         strip...y=None)), ('tfidf', TfidfTransformer(norm='l2', smooth_idf=True, sublinear_tf=False, use_idf=True))]), 'features__starting_verb': StartingVerbExtractor(), 'features__text_pipeline__memory': None, 'features__text_pipeline__steps': [('vect',\n",
       "   CountVectorizer(analyzer='word', binary=False, decode_error='strict',\n",
       "           dtype=<class 'numpy.int64'>, encoding='utf-8', input='content',\n",
       "           lowercase=True, max_df=1.0, max_features=None, min_df=1,\n",
       "           ngram_range=(1, 1), preprocessor=None, stop_words=None,\n",
       "           strip_accents=None, token_pattern='(?u)\\\\b\\\\w\\\\w+\\\\b',\n",
       "           tokenizer=<function tokenize at 0x7f0bd0cd97b8>, vocabulary=None)),\n",
       "  ('tfidf',\n",
       "   TfidfTransformer(norm='l2', smooth_idf=True, sublinear_tf=False, use_idf=True))], 'features__text_pipeline__vect': CountVectorizer(analyzer='word', binary=False, decode_error='strict',\n",
       "         dtype=<class 'numpy.int64'>, encoding='utf-8', input='content',\n",
       "         lowercase=True, max_df=1.0, max_features=None, min_df=1,\n",
       "         ngram_range=(1, 1), preprocessor=None, stop_words=None,\n",
       "         strip_accents=None, token_pattern='(?u)\\\\b\\\\w\\\\w+\\\\b',\n",
       "         tokenizer=<function tokenize at 0x7f0bd0cd97b8>, vocabulary=None), 'features__text_pipeline__tfidf': TfidfTransformer(norm='l2', smooth_idf=True, sublinear_tf=False, use_idf=True), 'features__text_pipeline__vect__analyzer': 'word', 'features__text_pipeline__vect__binary': False, 'features__text_pipeline__vect__decode_error': 'strict', 'features__text_pipeline__vect__dtype': numpy.int64, 'features__text_pipeline__vect__encoding': 'utf-8', 'features__text_pipeline__vect__input': 'content', 'features__text_pipeline__vect__lowercase': True, 'features__text_pipeline__vect__max_df': 1.0, 'features__text_pipeline__vect__max_features': None, 'features__text_pipeline__vect__min_df': 1, 'features__text_pipeline__vect__ngram_range': (1,\n",
       "  1), 'features__text_pipeline__vect__preprocessor': None, 'features__text_pipeline__vect__stop_words': None, 'features__text_pipeline__vect__strip_accents': None, 'features__text_pipeline__vect__token_pattern': '(?u)\\\\b\\\\w\\\\w+\\\\b', 'features__text_pipeline__vect__tokenizer': <function __main__.tokenize(text)>, 'features__text_pipeline__vect__vocabulary': None, 'features__text_pipeline__tfidf__norm': 'l2', 'features__text_pipeline__tfidf__smooth_idf': True, 'features__text_pipeline__tfidf__sublinear_tf': False, 'features__text_pipeline__tfidf__use_idf': True, 'clf__estimator__algorithm': 'SAMME.R', 'clf__estimator__base_estimator': None, 'clf__estimator__learning_rate': 1.0, 'clf__estimator__n_estimators': 50, 'clf__estimator__random_state': None, 'clf__estimator': AdaBoostClassifier(algorithm='SAMME.R', base_estimator=None,\n",
       "           learning_rate=1.0, n_estimators=50, random_state=None), 'clf__n_jobs': 1}"
      ]
     },
     "execution_count": 12,
     "metadata": {},
     "output_type": "execute_result"
    }
   ],
   "source": [
    "model.get_params()"
   ]
  },
  {
   "cell_type": "code",
   "execution_count": 14,
   "metadata": {},
   "outputs": [],
   "source": [
    "parameters = {\n",
    "    'features__text_pipeline__vect__ngram_range': ((1, 1), (1, 2)),\n",
    "    'features__text_pipeline__vect__max_df': (0.75, 1.0),\n",
    "    'features__text_pipeline__vect__max_features': (None, 5000),\n",
    "    'features__text_pipeline__tfidf__use_idf': (True, False),\n",
    "#    'clf__n_estimators': [10, 100],\n",
    "#    'clf__learning_rate': [0.01, 0.1],\n",
    "#    'features__transformer_weights': (\n",
    "#        {'text_pipeline': 1, 'starting_verb': 0.5},\n",
    "#        {'text_pipeline': 0.5, 'starting_verb': 1},\n",
    "#        {'text_pipeline': 0.8, 'starting_verb': 1},\n",
    "#    )\n",
    "}\n",
    "\n",
    "scorer = make_scorer(multioutput_fscore,greater_is_better = True)\n",
    "\n",
    "cv = GridSearchCV(model, param_grid=parameters, scoring = scorer,verbose = 2, n_jobs = -1)\n",
    "\n",
    "cv.fit(X_train, y_train) "
   ]
  },
  {
   "cell_type": "code",
   "execution_count": null,
   "metadata": {},
   "outputs": [],
   "source": [
    "#finding the best parameters based on grid search\n",
    "print(cv.best_params_)"
   ]
  },
  {
   "cell_type": "code",
   "execution_count": null,
   "metadata": {},
   "outputs": [],
   "source": [
    "#building new model\n",
    "optimised_model = cv.best_estimator_\n",
    "print(cv.best_estimator_)"
   ]
  },
  {
   "cell_type": "markdown",
   "metadata": {},
   "source": [
    "### 7. Test your model\n",
    "Show the accuracy, precision, and recall of the tuned model.  \n",
    "\n",
    "Since this project focuses on code quality, process, and  pipelines, there is no minimum performance metric needed to pass. However, make sure to fine tune your models for accuracy, precision and recall to make your project stand out - especially for your portfolio!"
   ]
  },
  {
   "cell_type": "code",
   "execution_count": null,
   "metadata": {},
   "outputs": [],
   "source": [
    "y_pred = optimised_model.predict(X_test)\n",
    "\n",
    "for i in range(36):\n",
    "    print(y_test.columns[i], ':')\n",
    "    print(classification_report(y_test.iloc[:,i], y_pred[:,i]), '...................................................')"
   ]
  },
  {
   "cell_type": "markdown",
   "metadata": {},
   "source": [
    "### 8. Try improving your model further. Here are a few ideas:\n",
    "* try other machine learning algorithms\n",
    "* add other features besides the TF-IDF"
   ]
  },
  {
   "cell_type": "markdown",
   "metadata": {},
   "source": [
    "### 9. Export your model as a pickle file"
   ]
  },
  {
   "cell_type": "code",
   "execution_count": 19,
   "metadata": {},
   "outputs": [
    {
     "data": {
      "text/plain": [
       "0.2532295799003153"
      ]
     },
     "execution_count": 19,
     "metadata": {},
     "output_type": "execute_result"
    }
   ],
   "source": [
    "# save the model to disk\n",
    "filename = 'classifier.sav'\n",
    "pickle.dump(model, open(filename, 'wb'))\n",
    " \n",
    "\n",
    " \n",
    "# load the model from disk\n",
    "# loaded_model = pickle.load(open(filename, 'rb'))\n",
    "# result = loaded_model.score(X_train, y_train)\n",
    "# result"
   ]
  },
  {
   "cell_type": "markdown",
   "metadata": {},
   "source": [
    "### 10. Use this notebook to complete `train.py`\n",
    "Use the template file attached in the Resources folder to write a script that runs the steps above to create a database and export a model based on a new dataset specified by the user."
   ]
  },
  {
   "cell_type": "code",
   "execution_count": null,
   "metadata": {},
   "outputs": [],
   "source": []
  }
 ],
 "metadata": {
  "kernelspec": {
   "display_name": "Python 3",
   "language": "python",
   "name": "python3"
  },
  "language_info": {
   "codemirror_mode": {
    "name": "ipython",
    "version": 3
   },
   "file_extension": ".py",
   "mimetype": "text/x-python",
   "name": "python",
   "nbconvert_exporter": "python",
   "pygments_lexer": "ipython3",
   "version": "3.6.3"
  }
 },
 "nbformat": 4,
 "nbformat_minor": 2
}
